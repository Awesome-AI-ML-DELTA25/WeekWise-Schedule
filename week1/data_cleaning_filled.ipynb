{
 "cells": [
  {
   "cell_type": "markdown",
   "id": "2e275b73",
   "metadata": {},
   "source": [
    "# Data Cleaning and Preprocessing\n",
    "ML is a powerful tool for analyzing and interpreting data, but before we can apply any machine learning algorithms, we need to ensure that our data is clean and well-prepared. \n",
    "\n",
    "Garbage in, garbage out (GIGO) is a common phrase in data science, emphasizing that the quality of the input data directly affects the quality of the output. Can you list some reasons why data might be considered \"dirty\", and how does this affect the results of your analysis?\n",
    "\n",
    "We'll use pandas and seaborn for data manipulation and visualization, respectively. We'll work with the `titanic` dataset, which is a classic dataset for demonstrating data cleaning and preprocessing techniques."
   ]
  },
  {
   "cell_type": "markdown",
   "id": "8b157b8b",
   "metadata": {},
   "source": [
    "# Titanic Dataset (Seaborn Version) - Feature Descriptions\n",
    "\n",
    "This dataset contains demographic and survival information about passengers on the Titanic. It is often used for demonstrating data cleaning, visualization, and classification tasks.\n",
    "\n",
    "## Target Variable\n",
    "\n",
    "- **`survived`** *(int)*  \n",
    "  Survival indicator:  \n",
    "  - `0` = Did not survive  \n",
    "  - `1` = Survived  \n",
    "\n",
    "---\n",
    "\n",
    "## Passenger Details\n",
    "\n",
    "- **`pclass`** *(int)*  \n",
    "  Passenger class (1st, 2nd, or 3rd) — proxy for socio-economic status.\n",
    "\n",
    "- **`sex`** *(object)*  \n",
    "  Gender of the passenger: `male` or `female`.\n",
    "\n",
    "- **`age`** *(float)*  \n",
    "  Age in years. Some missing values exist.\n",
    "\n",
    "- **`sibsp`** *(int)*  \n",
    "  Number of siblings or spouses aboard.\n",
    "\n",
    "- **`parch`** *(int)*  \n",
    "  Number of parents or children aboard.\n",
    "\n",
    "- **`fare`** *(float)*  \n",
    "  Fare paid for the ticket.\n",
    "\n",
    "- **`embarked`** *(object)*  \n",
    "  Port of embarkation:  \n",
    "  - `C` = Cherbourg  \n",
    "  - `Q` = Queenstown  \n",
    "  - `S` = Southampton\n",
    "\n",
    "- **`class`** *(category)*  \n",
    "  Duplicate of `pclass`, but as a readable label: \"First\", \"Second\", or \"Third\".\n",
    "\n",
    "- **`who`** *(object)*  \n",
    "  Simplified category of passenger type: \"man\", \"woman\", or \"child\".\n",
    "\n",
    "- **`adult_male`** *(bool)*  \n",
    "  True if the passenger is an adult male.\n",
    "\n",
    "- **`deck`** *(category)*  \n",
    "  Deck letter extracted from cabin — many missing values.\n",
    "\n",
    "- **`embark_town`** *(object)*  \n",
    "  Full name of embarkation town (duplicate of `embarked` but more readable).\n",
    "\n",
    "- **`alive`** *(object)*  \n",
    "  Human-readable survival status: \"yes\" or \"no\" (duplicate of `survived`).\n",
    "\n",
    "- **`alone`** *(bool)*  \n",
    "  True if the passenger had no family aboard (`sibsp + parch == 0`)."
   ]
  },
  {
   "cell_type": "markdown",
   "id": "866840cf",
   "metadata": {},
   "source": [
    "### AIM: We'll use the cleaned dataset to build a simple machine learning model to predict survival on the Titanic."
   ]
  },
  {
   "cell_type": "code",
   "execution_count": null,
   "id": "a63dbad7",
   "metadata": {},
   "outputs": [],
   "source": [
    "# import pandas as pd\n",
    "# import numpy as np\n",
    "import seaborn as sns\n",
    "import matplotlib.pyplot as plt"
   ]
  },
  {
   "cell_type": "code",
   "execution_count": null,
   "id": "d0e0dcf2",
   "metadata": {},
   "outputs": [],
   "source": [
    "# Load the Titanic dataset\n",
    "df = sns.load_dataset(\"titanic\")"
   ]
  },
  {
   "cell_type": "code",
   "execution_count": null,
   "id": "f7f21dd7",
   "metadata": {},
   "outputs": [],
   "source": [
    "# Explore the dataset\n",
    "df.info()"
   ]
  },
  {
   "cell_type": "code",
   "execution_count": null,
   "id": "97ac7d94",
   "metadata": {},
   "outputs": [],
   "source": [
    "df.describe()"
   ]
  },
  {
   "cell_type": "code",
   "execution_count": null,
   "id": "629c9e55",
   "metadata": {},
   "outputs": [],
   "source": [
    "df.isnull().sum()"
   ]
  },
  {
   "cell_type": "code",
   "execution_count": null,
   "id": "423b89bd",
   "metadata": {},
   "outputs": [],
   "source": [
    "df.head(10)"
   ]
  },
  {
   "cell_type": "markdown",
   "id": "7c0d63f9",
   "metadata": {},
   "source": [
    "NOTE: Features are a proxy for real world measurements."
   ]
  },
  {
   "cell_type": "markdown",
   "id": "9b8a5f9e",
   "metadata": {},
   "source": [
    "# Let's start the cleaning process!"
   ]
  },
  {
   "cell_type": "markdown",
   "id": "aebbd22f",
   "metadata": {},
   "source": [
    "Why drop rows with missing values? Or should we impute them? What about duplicate rows?"
   ]
  },
  {
   "cell_type": "code",
   "execution_count": null,
   "id": "ee07f67b",
   "metadata": {},
   "outputs": [],
   "source": [
    "# Handle missing values and drop duplicates\n",
    "\n",
    "df.dropna(subset=['age', 'embarked'], inplace=True)\n",
    "\n",
    "# Alternative\n",
    "# df['age'] = df['age'].fillna(df['age'].mean())\n",
    "# df['embarked'] = df['embarked'].fillna(df['embarked'].mode()[0])\n",
    "\n",
    "df.drop_duplicates(inplace=True)"
   ]
  },
  {
   "cell_type": "markdown",
   "id": "3a40aeec",
   "metadata": {},
   "source": [
    "### Should every feature count?\n",
    "\n",
    "The following are generally considered **redundant or derived** from other features:\n",
    "\n",
    "- `class` → derived from `pclass`\n",
    "- `who` → derived from `sex` and `age`\n",
    "- `adult_male` → derived from `sex` and `age`\n",
    "- `alive` → duplicate of `survived`\n",
    "- `embark_town` → readable version of `embarked`\n",
    "- `alone` → derived from `sibsp` and `parch`\n",
    "- `deck` → sparse, many missing values\n",
    "\n",
    "For basic analysis, you may want to drop these to simplify your dataset."
   ]
  },
  {
   "cell_type": "code",
   "execution_count": null,
   "id": "ad34f210",
   "metadata": {},
   "outputs": [],
   "source": [
    "# Drop columns\n",
    "df.drop(columns=[\"class\", \"who\", \"adult_male\", \"alive\", \"embark_town\", \"alone\", \"deck\"], inplace=True)"
   ]
  },
  {
   "cell_type": "markdown",
   "id": "32db6b74",
   "metadata": {},
   "source": [
    "# Some visualisations"
   ]
  },
  {
   "cell_type": "markdown",
   "id": "79ca9ca4",
   "metadata": {},
   "source": [
    "### Equi-distrubutional?"
   ]
  },
  {
   "cell_type": "code",
   "execution_count": null,
   "id": "138296a3",
   "metadata": {},
   "outputs": [],
   "source": [
    "# Plot distribution of 0 and 1 samples\n",
    "sns.countplot(x=\"survived\", data=df)\n",
    "plt.title(\"Distribution of Survived\")\n",
    "plt.xlabel(\"Survived\")\n",
    "plt.ylabel(\"Count\")\n",
    "plt.show()"
   ]
  },
  {
   "cell_type": "code",
   "execution_count": null,
   "id": "4e47614b",
   "metadata": {},
   "outputs": [],
   "source": [
    "# Get target\n",
    "objective = df['survived']\n",
    "df.drop(columns=[\"survived\"], inplace=True)"
   ]
  },
  {
   "cell_type": "code",
   "execution_count": null,
   "id": "d4865a5c",
   "metadata": {},
   "outputs": [],
   "source": [
    "# Get categorical and numerical columns\n",
    "categorical_cols = ['pclass', 'sex', 'embarked']\n",
    "numeric_cols = [col for col in df.columns if col not in categorical_cols]"
   ]
  },
  {
   "cell_type": "code",
   "execution_count": null,
   "id": "57e39084",
   "metadata": {},
   "outputs": [],
   "source": [
    "def plot_categorical_feature(objective, feature):\n",
    "    plt.figure(figsize=(6, 3))\n",
    "    # Add your plot\n",
    "    sns.countplot(x=feature, hue=objective, data=df)\n",
    "    plt.title(f\"Count of {feature} by Survival\")\n",
    "    plt.show()\n",
    "    \n",
    "def plot_numeric_feature(objective, feature):\n",
    "    plt.figure(figsize=(6, 3))\n",
    "    # Add your plot\n",
    "    sns.boxplot(x=objective, y=feature, data=df)\n",
    "    plt.title(f\"Distribution of {feature} by Survival\")\n",
    "    plt.show()\n"
   ]
  },
  {
   "cell_type": "code",
   "execution_count": null,
   "id": "97c9b4e4",
   "metadata": {},
   "outputs": [],
   "source": [
    "for feature in categorical_cols:\n",
    "    plot_categorical_feature(objective, feature)"
   ]
  },
  {
   "cell_type": "code",
   "execution_count": null,
   "id": "cf29f27a",
   "metadata": {},
   "outputs": [],
   "source": [
    "for feature in numeric_cols:\n",
    "    plot_numeric_feature(objective, feature)"
   ]
  },
  {
   "cell_type": "markdown",
   "id": "5785bcbb",
   "metadata": {},
   "source": [
    "Correlated Features"
   ]
  },
  {
   "cell_type": "code",
   "execution_count": null,
   "id": "231b4a77",
   "metadata": {},
   "outputs": [],
   "source": [
    "corr_map = df[numeric_cols].corr()\n",
    "plt.figure(figsize=(len(numeric_cols), len(numeric_cols)))\n",
    "sns.heatmap(corr_map, annot=True, cmap='coolwarm')\n",
    "plt.show()"
   ]
  },
  {
   "cell_type": "markdown",
   "id": "20456467",
   "metadata": {},
   "source": [
    "# A Fun reading exercise:\n",
    "Data Processing Inequality: _Post-processing cannot increase information_\n",
    "\n",
    "https://en.wikipedia.org/wiki/Data_processing_inequality"
   ]
  }
 ],
 "metadata": {
  "kernelspec": {
   "display_name": "week1",
   "language": "python",
   "name": "python3"
  },
  "language_info": {
   "codemirror_mode": {
    "name": "ipython",
    "version": 3
   },
   "file_extension": ".py",
   "mimetype": "text/x-python",
   "name": "python",
   "nbconvert_exporter": "python",
   "pygments_lexer": "ipython3",
   "version": "3.11.9"
  }
 },
 "nbformat": 4,
 "nbformat_minor": 5
}
